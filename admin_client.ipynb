{
 "cells": [
  {
   "cell_type": "code",
   "execution_count": 5,
   "metadata": {},
   "outputs": [
    {
     "name": "stdout",
     "output_type": "stream",
     "text": [
      "Available topics: ['topic', 'my-topic', 'test', '__consumer_offsets']\n",
      "Topic metadata for 'topic': topic\n"
     ]
    }
   ],
   "source": [
    "from confluent_kafka.admin import AdminClient\n",
    "\n",
    "# Create an AdminClient instance\n",
    "admin_client = AdminClient({'bootstrap.servers': 'localhost:9092'})\n",
    "\n",
    "# List topics\n",
    "metadata = admin_client.list_topics(timeout=10)\n",
    "topics = metadata.topics\n",
    "print(f\"Available topics: {list(topics.keys())}\")\n",
    "\n",
    "# Get topic details\n",
    "if 'topic' in topics:\n",
    "    topic_metadata = topics['topic']\n",
    "    print(f\"Topic metadata for 'topic': {topic_metadata}\")\n",
    "else:\n",
    "    print(\"Topic 'topic' does not exist.\")\n"
   ]
  }
 ],
 "metadata": {
  "kernelspec": {
   "display_name": "Python 3",
   "language": "python",
   "name": "python3"
  },
  "language_info": {
   "codemirror_mode": {
    "name": "ipython",
    "version": 3
   },
   "file_extension": ".py",
   "mimetype": "text/x-python",
   "name": "python",
   "nbconvert_exporter": "python",
   "pygments_lexer": "ipython3",
   "version": "3.12.7"
  }
 },
 "nbformat": 4,
 "nbformat_minor": 2
}
